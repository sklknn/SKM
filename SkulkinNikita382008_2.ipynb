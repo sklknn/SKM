{
  "nbformat": 4,
  "nbformat_minor": 0,
  "metadata": {
    "colab": {
      "name": "SkulkinNikita382008_2.ipynb",
      "provenance": []
    },
    "kernelspec": {
      "name": "python3",
      "display_name": "Python 3"
    },
    "language_info": {
      "name": "python"
    }
  },
  "cells": [
    {
      "cell_type": "markdown",
      "metadata": {
        "id": "0QDfMaMMRCwi"
      },
      "source": [
        "# Численное интегрирование. Светимость черного тела\n",
        "Скулкин Никита Алексеевич 382008-2\n",
        "# Цель работы\n",
        "Для формулы $$ \\varphi(\\lambda, T) =\\frac{2 \\pi h c^2}{\\lambda^5 \\left(e^{\\frac{h c}{\\lambda k T}} - 1\\right)}, $$ \n",
        "\n",
        "\n",
        "1.   Построить для Солнца график зависимости $\\varphi(\\lambda, T)$ от $\\lambda$\n",
        "2.   С помощью численного интегрирования найти светимость Солнца на видимой области длин волн, т.\\,е. для $\\lambda$ в диапазоне от $\\lambda_1 = 3.5\\times 10^{-7}$ до $\\lambda_2 = 7\\times 10^{-7}$.\n",
        "3.   Найдите также светимость Солнца для всех длин волн: от $0$ до $\\infty$ (несобственный интеграл).\n",
        "4.   Этот интеграл, оказывается, можно взять аналитически и энергетическая светимость равна $R^* = \\sigma T^4$, где $$ \\sigma = \\frac{8\\pi^5 k^4}{15 c^3 h^3} $$ Это так называемый закон Стефана–Больцмана. Константа $\\sigma$ называется константой Стефана–Больцмана. Чтобы узнать полную энергетическую светимость не забудьте $R^*$ умножить на площадь поверхности Солнца. Сравните полученный результат с результатом из предыдущего пункта.\n",
        "5.   Найдите так называемую солнечную постоянную – мощность солнечного излучения, падающего перпендикулярно на единичную площадку на высоте верхней границы атмосферы Земли. Вам пригодится расстояние от Солна до Земли: $149.6\\times 10^9$ м\n",
        "6.   Попробуйте найти вычисленные вами величины в литературе и сравните ваши значения с найденными.\n",
        "7.   Сделать выводы.\n",
        "\n"
      ]
    },
    {
      "cell_type": "code",
      "metadata": {
        "id": "PNqWquPuQgOY"
      },
      "source": [
        "import matplotlib.pyplot as plt\n",
        "import numpy as np\n",
        "import math\n",
        "%matplotlib inline\n",
        "from scipy import integrate\n",
        "\n",
        "h = 6.6261 * 10**-34\n",
        "k = 1.3806 * 10**-23\n",
        "c = 2.9979 * 10**8\n",
        "T = 5778\n"
      ],
      "execution_count": 121,
      "outputs": []
    },
    {
      "cell_type": "markdown",
      "metadata": {
        "id": "g-fAyESn9thp"
      },
      "source": [
        "# Построим график зависимости $\\varphi(\\lambda, T)$ от $\\lambda$\n",
        " "
      ]
    },
    {
      "cell_type": "code",
      "metadata": {
        "colab": {
          "base_uri": "https://localhost:8080/",
          "height": 307
        },
        "id": "AxVQ7yUjXkxI",
        "outputId": "986a2c01-3df9-4a4c-cb5a-88c6b0dae4fc"
      },
      "source": [
        "phi = lambda alpha: (2*math.pi*h*(c**2))/((alpha**5)*(math.e**(h*c/(alpha*k*T))-1))\n",
        "\n",
        "alpha = np.linspace(10**-7,10**-5,1000)\n",
        "plt.plot(alpha,phi(alpha))"
      ],
      "execution_count": 124,
      "outputs": [
        {
          "output_type": "execute_result",
          "data": {
            "text/plain": [
              "[<matplotlib.lines.Line2D at 0x7f83068e2f10>]"
            ]
          },
          "metadata": {
            "tags": []
          },
          "execution_count": 124
        },
        {
          "output_type": "display_data",
          "data": {
            "image/png": "[encoded data removed]",
            "text/plain": [
              "<Figure size 432x288 with 1 Axes>"
            ]
          },
          "metadata": {
            "tags": [],
            "needs_background": "light"
          }
        }
      ]
    },
    {
      "cell_type": "markdown",
      "metadata": {
        "id": "_SrXBOKeEbIb"
      },
      "source": [
        "# Определим светимость солнца на промежутке видимой длинны волн\n",
        "от 3.5 * 10^-7 до 7 * 10^-7"
      ]
    },
    {
      "cell_type": "code",
      "metadata": {
        "id": "XbcprRJcXJU2",
        "colab": {
          "base_uri": "https://localhost:8080/"
        },
        "outputId": "d3f9e166-442e-4511-dc29-a64a8673710a"
      },
      "source": [
        "R1,err = integrate.quad(phi,3.5*10**(-7),7*10**(-7))\n",
        "R1"
      ],
      "execution_count": 179,
      "outputs": [
        {
          "output_type": "execute_result",
          "data": {
            "text/plain": [
              "26456131.405975413"
            ]
          },
          "metadata": {
            "tags": []
          },
          "execution_count": 179
        }
      ]
    },
    {
      "cell_type": "markdown",
      "metadata": {
        "id": "UojQB3iwfEex"
      },
      "source": [
        "# Светимость Солнца для всех длин волн: от $0$ до $\\infty$ через несобственный интеграл"
      ]
    },
    {
      "cell_type": "code",
      "metadata": {
        "colab": {
          "base_uri": "https://localhost:8080/"
        },
        "id": "5rH6lEHvfRXp",
        "outputId": "48b3c904-6da4-4c70-8486-fa2cfe09339f"
      },
      "source": [
        "res1,err = integrate.quad(phi,0,np.inf)\n",
        "\n"
      ],
      "execution_count": 167,
      "outputs": [
        {
          "output_type": "stream",
          "text": [
            "/usr/local/lib/python3.7/dist-packages/ipykernel_launcher.py:1: IntegrationWarning: The algorithm does not converge.  Roundoff error is detected\n",
            "  in the extrapolation table.  It is assumed that the requested tolerance\n",
            "  cannot be achieved, and that the returned result (if full_output = 1) is \n",
            "  the best which can be obtained.\n",
            "  \"\"\"Entry point for launching an IPython kernel.\n"
          ],
          "name": "stderr"
        }
      ]
    },
    {
      "cell_type": "markdown",
      "metadata": {
        "id": "b_S9b_DKob2K"
      },
      "source": [
        "Домножим результат на площадь поверхности солнца, чтоб получить светимость для всей поверхности"
      ]
    },
    {
      "cell_type": "code",
      "metadata": {
        "colab": {
          "base_uri": "https://localhost:8080/"
        },
        "id": "ZzparQKEocGa",
        "outputId": "caf797ab-59a0-4250-e1bb-5def21b46c4e"
      },
      "source": [
        "Ssun = 6.07877*10**18\n",
        "res1 = res1 * Ssun\n",
        "res1"
      ],
      "execution_count": 168,
      "outputs": [
        {
          "output_type": "execute_result",
          "data": {
            "text/plain": [
              "3.825782793125503e+26"
            ]
          },
          "metadata": {
            "tags": []
          },
          "execution_count": 168
        }
      ]
    },
    {
      "cell_type": "markdown",
      "metadata": {
        "id": "W5labHAwj2_q"
      },
      "source": [
        "# Светимость через постоянную Стефана–Больцмана"
      ]
    },
    {
      "cell_type": "code",
      "metadata": {
        "colab": {
          "base_uri": "https://localhost:8080/"
        },
        "id": "vvMXWGHfj36A",
        "outputId": "4bda6247-fde8-45b7-943f-080380fc1ddb"
      },
      "source": [
        "stef_b = 5.67 * 10**-8\n",
        "Rstar = stef_b * T**4\n",
        "res2 = Rstar * Ssun\n",
        "res2"
      ],
      "execution_count": 169,
      "outputs": [
        {
          "output_type": "execute_result",
          "data": {
            "text/plain": [
              "3.841571496722059e+26"
            ]
          },
          "metadata": {
            "tags": []
          },
          "execution_count": 169
        }
      ]
    },
    {
      "cell_type": "markdown",
      "metadata": {
        "id": "q8d2m-Ato3Gh"
      },
      "source": [
        "Результат через простоянную отличаеться от предыдущего на:"
      ]
    },
    {
      "cell_type": "code",
      "metadata": {
        "colab": {
          "base_uri": "https://localhost:8080/"
        },
        "id": "kaJgcClwo7gb",
        "outputId": "a4c75f7b-ca26-4c5a-b1fc-b5d78a7d1400"
      },
      "source": [
        "print(res1-res2)"
      ],
      "execution_count": 170,
      "outputs": [
        {
          "output_type": "stream",
          "text": [
            "-1.5788703596555743e+24\n"
          ],
          "name": "stdout"
        }
      ]
    },
    {
      "cell_type": "markdown",
      "metadata": {
        "id": "yQ0vM9e_pTOl"
      },
      "source": [
        "# Нахождение солнечной постоянной"
      ]
    },
    {
      "cell_type": "markdown",
      "metadata": {
        "id": "ejfl7AEtuadp"
      },
      "source": [
        "Солнечную постоянную можно найти, разделив светимость солнца на площадь поверхности сферы радиусом в одну астрономическую единицу(расстояние от земли до солнца) по определению."
      ]
    },
    {
      "cell_type": "code",
      "metadata": {
        "colab": {
          "base_uri": "https://localhost:8080/"
        },
        "id": "XJ4T1fS2rf5W",
        "outputId": "e2c58dd9-c0cd-4c91-e396-0ca66d7903ed"
      },
      "source": [
        "rearth = 149.6 * 10**9\n",
        "Result = res2/(4*math.pi*rearth**2)\n",
        "Result"
      ],
      "execution_count": 182,
      "outputs": [
        {
          "output_type": "execute_result",
          "data": {
            "text/plain": [
              "1365.9533554367943"
            ]
          },
          "metadata": {
            "tags": []
          },
          "execution_count": 182
        }
      ]
    },
    {
      "cell_type": "markdown",
      "metadata": {
        "id": "mvP8DQRfv6e7"
      },
      "source": [
        "# Соответствие полученых величин с величинами из литературы"
      ]
    },
    {
      "cell_type": "markdown",
      "metadata": {
        "id": "qZwHPaT3wBML"
      },
      "source": [
        "Значение солнечной постоянной - 1367 Вт/м²,\n",
        "мое значение :"
      ]
    },
    {
      "cell_type": "code",
      "metadata": {
        "colab": {
          "base_uri": "https://localhost:8080/"
        },
        "id": "n161z08ZwIGZ",
        "outputId": "1b781d57-c7a5-447a-bdf1-23feebb485c5"
      },
      "source": [
        "Result"
      ],
      "execution_count": 176,
      "outputs": [
        {
          "output_type": "execute_result",
          "data": {
            "text/plain": [
              "1365.9533554367943"
            ]
          },
          "metadata": {
            "tags": []
          },
          "execution_count": 176
        }
      ]
    },
    {
      "cell_type": "markdown",
      "metadata": {
        "id": "GCbgqGDVwdHv"
      },
      "source": [
        "Светимость солнца - 3,828⋅10^26,\n",
        "мое значение:"
      ]
    },
    {
      "cell_type": "code",
      "metadata": {
        "colab": {
          "base_uri": "https://localhost:8080/"
        },
        "id": "X-939YqMwwAY",
        "outputId": "e972da70-e512-417a-d5bd-b8e55f0a09fc"
      },
      "source": [
        "res1"
      ],
      "execution_count": 177,
      "outputs": [
        {
          "output_type": "execute_result",
          "data": {
            "text/plain": [
              "3.825782793125503e+26"
            ]
          },
          "metadata": {
            "tags": []
          },
          "execution_count": 177
        }
      ]
    },
    {
      "cell_type": "markdown",
      "metadata": {
        "id": "mEr4cKgIxp7T"
      },
      "source": [
        "Светисмоть солнца на видимом промежутке от $\\lambda_1$ до $\\lambda_2$ найти не удалось. Мое значение :"
      ]
    },
    {
      "cell_type": "code",
      "metadata": {
        "colab": {
          "base_uri": "https://localhost:8080/"
        },
        "id": "P_1IVye5ys75",
        "outputId": "0e5484bf-0c9d-48a4-e4a8-4b26ab73b710"
      },
      "source": [
        "R1"
      ],
      "execution_count": 180,
      "outputs": [
        {
          "output_type": "execute_result",
          "data": {
            "text/plain": [
              "26456131.405975413"
            ]
          },
          "metadata": {
            "tags": []
          },
          "execution_count": 180
        }
      ]
    },
    {
      "cell_type": "markdown",
      "metadata": {
        "id": "AeqkmOa1y-hz"
      },
      "source": [
        "# Вывод\n"
      ]
    },
    {
      "cell_type": "markdown",
      "metadata": {
        "id": "9AqR37c6zB0I"
      },
      "source": [
        "С небольшой погрешностью полученые результаты соответствуют действительным, а результат, полученый с помощью взятия несобственного интеграла являеться более точным чем через постоянную Стефана–Больцмана"
      ]
    }
  ]
}